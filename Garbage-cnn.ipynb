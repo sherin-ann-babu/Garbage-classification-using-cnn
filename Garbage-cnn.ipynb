# Garbage classification
The project concerns garbage classification to determine if it may be recycle or not. The dataset contains waste images recyclable and organic ones. We will try to train a model that will be able to recognise them all. It is a binary classification problem and we will train the model in TensorFlow.

# Data

The dataset contains images divided into two classes: organic waste and recycle waste and it is split into train data (85%) and test data (15%). Training dataset contains 22564 images while test dataset 2513 images.
